{
 "cells": [
  {
   "cell_type": "markdown",
   "metadata": {},
   "source": [
    "Flipit News NLP Classification :\n",
    "\n",
    "Objective:\n",
    "\n",
    "The goal of this project is to use a bunch of news articles extracted from the companies’ internal database and categorize them into several categories like politics, technology, sports, business and entertainment based on their content. Use natural language processing and create & compare at least three different models."
   ]
  },
  {
   "cell_type": "code",
   "execution_count": 1,
   "metadata": {},
   "outputs": [],
   "source": [
    "import pandas as pd \n",
    "import numpy as np \n",
    "import matplotlib.pyplot as plt \n",
    "import seaborn as sns"
   ]
  },
  {
   "cell_type": "code",
   "execution_count": 2,
   "metadata": {},
   "outputs": [],
   "source": [
    "df = pd.read_csv('flipitnews-data.csv')"
   ]
  },
  {
   "cell_type": "code",
   "execution_count": 3,
   "metadata": {},
   "outputs": [
    {
     "data": {
      "text/html": [
       "<div>\n",
       "<style scoped>\n",
       "    .dataframe tbody tr th:only-of-type {\n",
       "        vertical-align: middle;\n",
       "    }\n",
       "\n",
       "    .dataframe tbody tr th {\n",
       "        vertical-align: top;\n",
       "    }\n",
       "\n",
       "    .dataframe thead th {\n",
       "        text-align: right;\n",
       "    }\n",
       "</style>\n",
       "<table border=\"1\" class=\"dataframe\">\n",
       "  <thead>\n",
       "    <tr style=\"text-align: right;\">\n",
       "      <th></th>\n",
       "      <th>Category</th>\n",
       "      <th>Article</th>\n",
       "    </tr>\n",
       "  </thead>\n",
       "  <tbody>\n",
       "    <tr>\n",
       "      <th>0</th>\n",
       "      <td>Technology</td>\n",
       "      <td>tv future in the hands of viewers with home th...</td>\n",
       "    </tr>\n",
       "    <tr>\n",
       "      <th>1</th>\n",
       "      <td>Business</td>\n",
       "      <td>worldcom boss  left books alone  former worldc...</td>\n",
       "    </tr>\n",
       "    <tr>\n",
       "      <th>2</th>\n",
       "      <td>Sports</td>\n",
       "      <td>tigers wary of farrell  gamble  leicester say ...</td>\n",
       "    </tr>\n",
       "  </tbody>\n",
       "</table>\n",
       "</div>"
      ],
      "text/plain": [
       "     Category                                            Article\n",
       "0  Technology  tv future in the hands of viewers with home th...\n",
       "1    Business  worldcom boss  left books alone  former worldc...\n",
       "2      Sports  tigers wary of farrell  gamble  leicester say ..."
      ]
     },
     "execution_count": 3,
     "metadata": {},
     "output_type": "execute_result"
    }
   ],
   "source": [
    "df.head(3)"
   ]
  },
  {
   "cell_type": "markdown",
   "metadata": {},
   "source": [
    "Approach :  \n",
    "\n",
    "1. Preprocessing \n",
    "2. generate embeddings \n",
    "3. train models like logistic regression, naive bayes, random forest, etc. \n",
    "4. check models performance against NLP based models"
   ]
  },
  {
   "cell_type": "code",
   "execution_count": 4,
   "metadata": {},
   "outputs": [
    {
     "name": "stdout",
     "output_type": "stream",
     "text": [
      "<class 'pandas.core.frame.DataFrame'>\n",
      "RangeIndex: 2225 entries, 0 to 2224\n",
      "Data columns (total 2 columns):\n",
      " #   Column    Non-Null Count  Dtype \n",
      "---  ------    --------------  ----- \n",
      " 0   Category  2225 non-null   object\n",
      " 1   Article   2225 non-null   object\n",
      "dtypes: object(2)\n",
      "memory usage: 34.9+ KB\n"
     ]
    }
   ],
   "source": [
    "df.info()"
   ]
  },
  {
   "cell_type": "code",
   "execution_count": 5,
   "metadata": {},
   "outputs": [
    {
     "data": {
      "text/plain": [
       "Index(['category', 'article'], dtype='object')"
      ]
     },
     "execution_count": 5,
     "metadata": {},
     "output_type": "execute_result"
    }
   ],
   "source": [
    "# lowercase column names \n",
    "df.columns = df.columns.str.lower()\n",
    "df.columns"
   ]
  },
  {
   "cell_type": "code",
   "execution_count": 6,
   "metadata": {},
   "outputs": [
    {
     "data": {
      "text/plain": [
       "Sports           511\n",
       "Business         510\n",
       "Politics         417\n",
       "Technology       401\n",
       "Entertainment    386\n",
       "Name: category, dtype: int64"
      ]
     },
     "execution_count": 6,
     "metadata": {},
     "output_type": "execute_result"
    }
   ],
   "source": [
    "df[\"category\"].value_counts()"
   ]
  },
  {
   "cell_type": "code",
   "execution_count": 7,
   "metadata": {},
   "outputs": [
    {
     "data": {
      "text/plain": [
       "<AxesSubplot: xlabel='category', ylabel='count'>"
      ]
     },
     "execution_count": 7,
     "metadata": {},
     "output_type": "execute_result"
    },
    {
     "data": {
      "image/png": "[encoded data removed]",
      "text/plain": [
       "<Figure size 640x480 with 1 Axes>"
      ]
     },
     "metadata": {},
     "output_type": "display_data"
    }
   ],
   "source": [
    "# checking the balance of classes \n",
    "sns.countplot(data=df, x='category')"
   ]
  },
  {
   "cell_type": "code",
   "execution_count": 8,
   "metadata": {},
   "outputs": [
    {
     "data": {
      "text/plain": [
       "category    0\n",
       "article     0\n",
       "dtype: int64"
      ]
     },
     "execution_count": 8,
     "metadata": {},
     "output_type": "execute_result"
    }
   ],
   "source": [
    "# count of classes are almost equal  \n",
    "# checking null values \n",
    "df.isnull().sum()"
   ]
  },
  {
   "cell_type": "code",
   "execution_count": 9,
   "metadata": {},
   "outputs": [
    {
     "data": {
      "text/plain": [
       "(2225, 2)"
      ]
     },
     "execution_count": 9,
     "metadata": {},
     "output_type": "execute_result"
    }
   ],
   "source": [
    "df.shape"
   ]
  },
  {
   "cell_type": "code",
   "execution_count": 10,
   "metadata": {},
   "outputs": [
    {
     "data": {
      "text/html": [
       "<div>\n",
       "<style scoped>\n",
       "    .dataframe tbody tr th:only-of-type {\n",
       "        vertical-align: middle;\n",
       "    }\n",
       "\n",
       "    .dataframe tbody tr th {\n",
       "        vertical-align: top;\n",
       "    }\n",
       "\n",
       "    .dataframe thead th {\n",
       "        text-align: right;\n",
       "    }\n",
       "</style>\n",
       "<table border=\"1\" class=\"dataframe\">\n",
       "  <thead>\n",
       "    <tr style=\"text-align: right;\">\n",
       "      <th></th>\n",
       "      <th>category</th>\n",
       "      <th>article</th>\n",
       "    </tr>\n",
       "  </thead>\n",
       "  <tbody>\n",
       "    <tr>\n",
       "      <th>count</th>\n",
       "      <td>2225</td>\n",
       "      <td>2225</td>\n",
       "    </tr>\n",
       "    <tr>\n",
       "      <th>unique</th>\n",
       "      <td>5</td>\n",
       "      <td>2126</td>\n",
       "    </tr>\n",
       "    <tr>\n",
       "      <th>top</th>\n",
       "      <td>Sports</td>\n",
       "      <td>kennedy questions trust of blair lib dem leade...</td>\n",
       "    </tr>\n",
       "    <tr>\n",
       "      <th>freq</th>\n",
       "      <td>511</td>\n",
       "      <td>2</td>\n",
       "    </tr>\n",
       "  </tbody>\n",
       "</table>\n",
       "</div>"
      ],
      "text/plain": [
       "       category                                            article\n",
       "count      2225                                               2225\n",
       "unique        5                                               2126\n",
       "top      Sports  kennedy questions trust of blair lib dem leade...\n",
       "freq        511                                                  2"
      ]
     },
     "execution_count": 10,
     "metadata": {},
     "output_type": "execute_result"
    }
   ],
   "source": [
    "df.describe()"
   ]
  },
  {
   "cell_type": "code",
   "execution_count": 11,
   "metadata": {},
   "outputs": [
    {
     "name": "stderr",
     "output_type": "stream",
     "text": [
      "[nltk_data] Downloading package stopwords to\n",
      "[nltk_data]     C:\\Users\\mahik\\AppData\\Roaming\\nltk_data...\n",
      "[nltk_data]   Package stopwords is already up-to-date!\n",
      "[nltk_data] Downloading package wordnet to\n",
      "[nltk_data]     C:\\Users\\mahik\\AppData\\Roaming\\nltk_data...\n",
      "[nltk_data]   Package wordnet is already up-to-date!\n",
      "[nltk_data] Downloading package punkt to\n",
      "[nltk_data]     C:\\Users\\mahik\\AppData\\Roaming\\nltk_data...\n",
      "[nltk_data]   Package punkt is already up-to-date!\n"
     ]
    },
    {
     "data": {
      "text/plain": [
       "True"
      ]
     },
     "execution_count": 11,
     "metadata": {},
     "output_type": "execute_result"
    }
   ],
   "source": [
    "# Text preprocessing\n",
    "import re \n",
    "import nltk\n",
    "from nltk.corpus import stopwords\n",
    "from nltk.tokenize import word_tokenize\n",
    "from nltk.stem.porter import PorterStemmer\n",
    "from nltk.stem import WordNetLemmatizer\n",
    "nltk.download('stopwords')\n",
    "nltk.download('wordnet') \n",
    "nltk.download('punkt')"
   ]
  },
  {
   "cell_type": "code",
   "execution_count": 12,
   "metadata": {},
   "outputs": [
    {
     "data": {
      "text/html": [
       "<div>\n",
       "<style scoped>\n",
       "    .dataframe tbody tr th:only-of-type {\n",
       "        vertical-align: middle;\n",
       "    }\n",
       "\n",
       "    .dataframe tbody tr th {\n",
       "        vertical-align: top;\n",
       "    }\n",
       "\n",
       "    .dataframe thead th {\n",
       "        text-align: right;\n",
       "    }\n",
       "</style>\n",
       "<table border=\"1\" class=\"dataframe\">\n",
       "  <thead>\n",
       "    <tr style=\"text-align: right;\">\n",
       "      <th></th>\n",
       "      <th>category</th>\n",
       "      <th>article</th>\n",
       "    </tr>\n",
       "  </thead>\n",
       "  <tbody>\n",
       "    <tr>\n",
       "      <th>0</th>\n",
       "      <td>Technology</td>\n",
       "      <td>tv future in the hands of viewers with home th...</td>\n",
       "    </tr>\n",
       "    <tr>\n",
       "      <th>1</th>\n",
       "      <td>Business</td>\n",
       "      <td>worldcom boss  left books alone  former worldc...</td>\n",
       "    </tr>\n",
       "    <tr>\n",
       "      <th>2</th>\n",
       "      <td>Sports</td>\n",
       "      <td>tigers wary of farrell  gamble  leicester say ...</td>\n",
       "    </tr>\n",
       "    <tr>\n",
       "      <th>3</th>\n",
       "      <td>Sports</td>\n",
       "      <td>yeading face newcastle in fa cup premiership s...</td>\n",
       "    </tr>\n",
       "    <tr>\n",
       "      <th>4</th>\n",
       "      <td>Entertainment</td>\n",
       "      <td>ocean s twelve raids box office ocean s twelve...</td>\n",
       "    </tr>\n",
       "    <tr>\n",
       "      <th>...</th>\n",
       "      <td>...</td>\n",
       "      <td>...</td>\n",
       "    </tr>\n",
       "    <tr>\n",
       "      <th>2220</th>\n",
       "      <td>Business</td>\n",
       "      <td>cars pull down us retail figures us retail sal...</td>\n",
       "    </tr>\n",
       "    <tr>\n",
       "      <th>2221</th>\n",
       "      <td>Politics</td>\n",
       "      <td>kilroy unveils immigration policy ex-chatshow ...</td>\n",
       "    </tr>\n",
       "    <tr>\n",
       "      <th>2222</th>\n",
       "      <td>Entertainment</td>\n",
       "      <td>rem announce new glasgow concert us band rem h...</td>\n",
       "    </tr>\n",
       "    <tr>\n",
       "      <th>2223</th>\n",
       "      <td>Politics</td>\n",
       "      <td>how political squabbles snowball it s become c...</td>\n",
       "    </tr>\n",
       "    <tr>\n",
       "      <th>2224</th>\n",
       "      <td>Sports</td>\n",
       "      <td>souness delight at euro progress boss graeme s...</td>\n",
       "    </tr>\n",
       "  </tbody>\n",
       "</table>\n",
       "<p>2225 rows × 2 columns</p>\n",
       "</div>"
      ],
      "text/plain": [
       "           category                                            article\n",
       "0        Technology  tv future in the hands of viewers with home th...\n",
       "1          Business  worldcom boss  left books alone  former worldc...\n",
       "2            Sports  tigers wary of farrell  gamble  leicester say ...\n",
       "3            Sports  yeading face newcastle in fa cup premiership s...\n",
       "4     Entertainment  ocean s twelve raids box office ocean s twelve...\n",
       "...             ...                                                ...\n",
       "2220       Business  cars pull down us retail figures us retail sal...\n",
       "2221       Politics  kilroy unveils immigration policy ex-chatshow ...\n",
       "2222  Entertainment  rem announce new glasgow concert us band rem h...\n",
       "2223       Politics  how political squabbles snowball it s become c...\n",
       "2224         Sports  souness delight at euro progress boss graeme s...\n",
       "\n",
       "[2225 rows x 2 columns]"
      ]
     },
     "execution_count": 12,
     "metadata": {},
     "output_type": "execute_result"
    }
   ],
   "source": [
    "# lowering the test \n",
    "df['article'] = df['article'].str.lower()\n",
    "df"
   ]
  },
  {
   "cell_type": "code",
   "execution_count": 13,
   "metadata": {},
   "outputs": [],
   "source": [
    "# stopwords\n",
    "stop_words = stopwords.words('english')\n",
    "\n",
    "def text_preprocessing(text):\n",
    "    text = re.sub('[^a-zA-Z]', ' ', text)\n",
    "    text = word_tokenize(text)\n",
    "    lemmatizer = WordNetLemmatizer()\n",
    "    text = [lemmatizer.lemmatize(word) for word in text if not word in stop_words]\n",
    "    text = ' '.join(text)\n",
    "    return text"
   ]
  },
  {
   "cell_type": "code",
   "execution_count": 14,
   "metadata": {},
   "outputs": [
    {
     "name": "stderr",
     "output_type": "stream",
     "text": [
      "[nltk_data] Downloading package omw-1.4 to\n",
      "[nltk_data]     C:\\Users\\mahik\\AppData\\Roaming\\nltk_data...\n",
      "[nltk_data]   Package omw-1.4 is already up-to-date!\n"
     ]
    },
    {
     "data": {
      "text/plain": [
       "True"
      ]
     },
     "execution_count": 14,
     "metadata": {},
     "output_type": "execute_result"
    }
   ],
   "source": [
    "nltk.download('omw-1.4')"
   ]
  },
  {
   "cell_type": "code",
   "execution_count": 15,
   "metadata": {},
   "outputs": [],
   "source": [
    "df[\"article\"] = df[\"article\"].apply(text_preprocessing)"
   ]
  },
  {
   "cell_type": "code",
   "execution_count": 16,
   "metadata": {},
   "outputs": [],
   "source": [
    "# remove punctuation \n",
    "import string \n",
    "df[\"article\"] = df[\"article\"].apply(lambda x: x.translate(str.maketrans('', '', string.punctuation)))"
   ]
  },
  {
   "cell_type": "code",
   "execution_count": 17,
   "metadata": {},
   "outputs": [
    {
     "data": {
      "text/html": [
       "<div>\n",
       "<style scoped>\n",
       "    .dataframe tbody tr th:only-of-type {\n",
       "        vertical-align: middle;\n",
       "    }\n",
       "\n",
       "    .dataframe tbody tr th {\n",
       "        vertical-align: top;\n",
       "    }\n",
       "\n",
       "    .dataframe thead th {\n",
       "        text-align: right;\n",
       "    }\n",
       "</style>\n",
       "<table border=\"1\" class=\"dataframe\">\n",
       "  <thead>\n",
       "    <tr style=\"text-align: right;\">\n",
       "      <th></th>\n",
       "      <th>category</th>\n",
       "      <th>article</th>\n",
       "    </tr>\n",
       "  </thead>\n",
       "  <tbody>\n",
       "    <tr>\n",
       "      <th>0</th>\n",
       "      <td>4</td>\n",
       "      <td>tv future hand viewer home theatre system plas...</td>\n",
       "    </tr>\n",
       "    <tr>\n",
       "      <th>1</th>\n",
       "      <td>0</td>\n",
       "      <td>worldcom bos left book alone former worldcom b...</td>\n",
       "    </tr>\n",
       "    <tr>\n",
       "      <th>2</th>\n",
       "      <td>3</td>\n",
       "      <td>tiger wary farrell gamble leicester say rushed...</td>\n",
       "    </tr>\n",
       "    <tr>\n",
       "      <th>3</th>\n",
       "      <td>3</td>\n",
       "      <td>yeading face newcastle fa cup premiership side...</td>\n",
       "    </tr>\n",
       "    <tr>\n",
       "      <th>4</th>\n",
       "      <td>1</td>\n",
       "      <td>ocean twelve raid box office ocean twelve crim...</td>\n",
       "    </tr>\n",
       "    <tr>\n",
       "      <th>...</th>\n",
       "      <td>...</td>\n",
       "      <td>...</td>\n",
       "    </tr>\n",
       "    <tr>\n",
       "      <th>2220</th>\n",
       "      <td>0</td>\n",
       "      <td>car pull u retail figure u retail sale fell ja...</td>\n",
       "    </tr>\n",
       "    <tr>\n",
       "      <th>2221</th>\n",
       "      <td>2</td>\n",
       "      <td>kilroy unveils immigration policy ex chatshow ...</td>\n",
       "    </tr>\n",
       "    <tr>\n",
       "      <th>2222</th>\n",
       "      <td>1</td>\n",
       "      <td>rem announce new glasgow concert u band rem an...</td>\n",
       "    </tr>\n",
       "    <tr>\n",
       "      <th>2223</th>\n",
       "      <td>2</td>\n",
       "      <td>political squabble snowball become commonplace...</td>\n",
       "    </tr>\n",
       "    <tr>\n",
       "      <th>2224</th>\n",
       "      <td>3</td>\n",
       "      <td>souness delight euro progress bos graeme soune...</td>\n",
       "    </tr>\n",
       "  </tbody>\n",
       "</table>\n",
       "<p>2225 rows × 2 columns</p>\n",
       "</div>"
      ],
      "text/plain": [
       "      category                                            article\n",
       "0            4  tv future hand viewer home theatre system plas...\n",
       "1            0  worldcom bos left book alone former worldcom b...\n",
       "2            3  tiger wary farrell gamble leicester say rushed...\n",
       "3            3  yeading face newcastle fa cup premiership side...\n",
       "4            1  ocean twelve raid box office ocean twelve crim...\n",
       "...        ...                                                ...\n",
       "2220         0  car pull u retail figure u retail sale fell ja...\n",
       "2221         2  kilroy unveils immigration policy ex chatshow ...\n",
       "2222         1  rem announce new glasgow concert u band rem an...\n",
       "2223         2  political squabble snowball become commonplace...\n",
       "2224         3  souness delight euro progress bos graeme soune...\n",
       "\n",
       "[2225 rows x 2 columns]"
      ]
     },
     "execution_count": 17,
     "metadata": {},
     "output_type": "execute_result"
    }
   ],
   "source": [
    "# encoding the target variable \n",
    "from sklearn.preprocessing import LabelEncoder\n",
    "le = LabelEncoder()\n",
    "df[\"category\"] = le.fit_transform(df[\"category\"])\n",
    "df"
   ]
  },
  {
   "cell_type": "code",
   "execution_count": 18,
   "metadata": {},
   "outputs": [],
   "source": [
    "#df.drop([\"article\"], axis=1,inplace=True)"
   ]
  },
  {
   "cell_type": "code",
   "execution_count": 19,
   "metadata": {},
   "outputs": [],
   "source": [
    "#df.rename(columns={\"artice\": \"article\"}, inplace=True)"
   ]
  },
  {
   "cell_type": "code",
   "execution_count": 20,
   "metadata": {},
   "outputs": [],
   "source": [
    "# function that takes input from user 1 or 2 , if 1 then count vectorizer , 2 then tfidf vectorizer \n",
    "from sklearn.feature_extraction.text import CountVectorizer\n",
    "count_vectorizer = CountVectorizer(max_features=5000, stop_words='english')\n",
    "\n",
    "from sklearn.feature_extraction.text import TfidfVectorizer\n",
    "tfidf_vectorizer = TfidfVectorizer(max_features=5000, stop_words='english')\n",
    "\n",
    "from sklearn.model_selection import train_test_split"
   ]
  },
  {
   "cell_type": "code",
   "execution_count": 21,
   "metadata": {},
   "outputs": [],
   "source": [
    "# df[\"len\"] = df[\"article\"].apply(lambda x: len(x.split()))\n",
    "# # get max len row \n",
    "# df[df[\"len\"] == max(df[\"len\"])]\n",
    "# df.drop([\"len\"], axis=1, inplace=True)"
   ]
  },
  {
   "cell_type": "code",
   "execution_count": 22,
   "metadata": {},
   "outputs": [],
   "source": [
    "x_cv = count_vectorizer.fit_transform(df[\"article\"]).toarray()\n",
    "y = df[\"category\"]  \n",
    "\n",
    "x_tf = tfidf_vectorizer.fit_transform(df[\"article\"]).toarray()"
   ]
  },
  {
   "cell_type": "code",
   "execution_count": 23,
   "metadata": {},
   "outputs": [],
   "source": [
    "\n",
    "x_train_cv, x_test_cv, y_train_cv, y_test_cv = train_test_split(x_cv, y, test_size=0.2, random_state=42)\n",
    "\n",
    "x_train_tf, x_test_tf, y_train_tf, y_test_tf = train_test_split(x_tf, y, test_size=0.2, random_state=42)\n"
   ]
  },
  {
   "cell_type": "code",
   "execution_count": 24,
   "metadata": {},
   "outputs": [
    {
     "name": "stdout",
     "output_type": "stream",
     "text": [
      "(2225, 5000) (1780, 5000) (445, 5000)\n",
      "(2225, 5000) (1780, 5000) (445, 5000)\n"
     ]
    }
   ],
   "source": [
    "print(x_cv.shape, x_train_cv.shape, x_test_cv.shape)\n",
    "print(x_tf.shape, x_train_tf.shape, x_test_tf.shape)"
   ]
  },
  {
   "cell_type": "code",
   "execution_count": 25,
   "metadata": {},
   "outputs": [
    {
     "data": {
      "text/plain": [
       "array([1, 0, 0, ..., 4, 3, 4])"
      ]
     },
     "execution_count": 25,
     "metadata": {},
     "output_type": "execute_result"
    }
   ],
   "source": [
    "y_train_cv.values"
   ]
  },
  {
   "cell_type": "markdown",
   "metadata": {},
   "source": [
    "Model-building "
   ]
  },
  {
   "cell_type": "code",
   "execution_count": 26,
   "metadata": {},
   "outputs": [
    {
     "name": "stdout",
     "output_type": "stream",
     "text": [
      "              precision    recall  f1-score   support\n",
      "\n",
      "           0       0.98      0.92      0.95       101\n",
      "           1       0.99      0.93      0.96        81\n",
      "           2       0.91      0.99      0.95        83\n",
      "           3       0.99      1.00      0.99        98\n",
      "           4       0.95      0.99      0.97        82\n",
      "\n",
      "    accuracy                           0.96       445\n",
      "   macro avg       0.96      0.96      0.96       445\n",
      "weighted avg       0.97      0.96      0.96       445\n",
      "\n",
      "accuracy : 0.9640449438202248\n",
      "precision_score : 0.9653514481792216\n",
      "recall_score : 0.9640449438202248\n",
      "f1_score : 0.9639662988380215\n"
     ]
    }
   ],
   "source": [
    "# Naive bayes \n",
    "from sklearn.naive_bayes import MultinomialNB\n",
    "\n",
    "mnb = MultinomialNB()\n",
    "\n",
    "mnb.fit(x_train_cv, y_train_cv)\n",
    "\n",
    "y_pred_cv = mnb.predict(x_test_cv)\n",
    "\n",
    "\n",
    "# precison , recall , f1 score \n",
    "from sklearn.metrics import accuracy_score,  classification_report , precision_score, recall_score, f1_score\n",
    "\n",
    "print(classification_report(y_test_cv, y_pred_cv))\n",
    "\n",
    "# print accuracy score, precision score , recall score , f1 score \n",
    "print(\"accuracy :\", accuracy_score(y_test_cv, y_pred_cv))\n",
    "print(\"precision_score :\", precision_score(y_test_cv, y_pred_cv, average='weighted'))\n",
    "print(\"recall_score :\", recall_score(y_test_cv, y_pred_cv, average='weighted'))\n",
    "print(\"f1_score :\", f1_score(y_test_cv, y_pred_cv, average='weighted'))\n",
    "\n",
    "\n"
   ]
  },
  {
   "cell_type": "code",
   "execution_count": 27,
   "metadata": {},
   "outputs": [],
   "source": [
    "# scores data frame to store accuracy , precision , recall , f1 score \n",
    "scores = pd.DataFrame(columns=[\"model\", \"accuracy\", \"precision\", \"recall\", \"f1_score\"])"
   ]
  },
  {
   "cell_type": "code",
   "execution_count": 28,
   "metadata": {},
   "outputs": [
    {
     "name": "stderr",
     "output_type": "stream",
     "text": [
      "C:\\Users\\mahik\\AppData\\Local\\Temp\\ipykernel_8240\\1868333114.py:2: FutureWarning: The frame.append method is deprecated and will be removed from pandas in a future version. Use pandas.concat instead.\n",
      "  scores.append({\"model\": \"mnb\", \"accuracy\": accuracy_score(y_test_cv, y_pred_cv),\n"
     ]
    },
    {
     "data": {
      "text/html": [
       "<div>\n",
       "<style scoped>\n",
       "    .dataframe tbody tr th:only-of-type {\n",
       "        vertical-align: middle;\n",
       "    }\n",
       "\n",
       "    .dataframe tbody tr th {\n",
       "        vertical-align: top;\n",
       "    }\n",
       "\n",
       "    .dataframe thead th {\n",
       "        text-align: right;\n",
       "    }\n",
       "</style>\n",
       "<table border=\"1\" class=\"dataframe\">\n",
       "  <thead>\n",
       "    <tr style=\"text-align: right;\">\n",
       "      <th></th>\n",
       "      <th>model</th>\n",
       "      <th>accuracy</th>\n",
       "      <th>precision</th>\n",
       "      <th>recall</th>\n",
       "      <th>f1_score</th>\n",
       "    </tr>\n",
       "  </thead>\n",
       "  <tbody>\n",
       "    <tr>\n",
       "      <th>0</th>\n",
       "      <td>mnb</td>\n",
       "      <td>0.964045</td>\n",
       "      <td>0.965351</td>\n",
       "      <td>0.964045</td>\n",
       "      <td>0.963966</td>\n",
       "    </tr>\n",
       "  </tbody>\n",
       "</table>\n",
       "</div>"
      ],
      "text/plain": [
       "  model  accuracy  precision    recall  f1_score\n",
       "0   mnb  0.964045   0.965351  0.964045  0.963966"
      ]
     },
     "execution_count": 28,
     "metadata": {},
     "output_type": "execute_result"
    }
   ],
   "source": [
    "# appending the score of mnb model to scores data frame\n",
    "scores.append({\"model\": \"mnb\", \"accuracy\": accuracy_score(y_test_cv, y_pred_cv),\n",
    "                        \"precision\": precision_score(y_test_cv, y_pred_cv, average='weighted'),\n",
    "                        \"recall\": recall_score(y_test_cv, y_pred_cv, average='weighted'),\n",
    "                        \"f1_score\": f1_score(y_test_cv, y_pred_cv, average='weighted')}, ignore_index=True)"
   ]
  },
  {
   "cell_type": "code",
   "execution_count": 36,
   "metadata": {},
   "outputs": [],
   "source": [
    "# we are going to repeat the same for all the model- classifiers\n",
    "from sklearn.neighbors import KNeighborsClassifier\n",
    "from sklearn.ensemble import RandomForestClassifier\n",
    "from sklearn.svm import SVC\n",
    "from sklearn.tree import DecisionTreeClassifier\n",
    "from sklearn.ensemble import GradientBoostingClassifier\n",
    "from sklearn.linear_model import LogisticRegression\n",
    "from sklearn.ensemble import AdaBoostClassifier\n",
    "from xgboost import XGBClassifier\n",
    "from sklearn.ensemble import BaggingClassifier\n",
    "from sklearn.naive_bayes import MultinomialNB\n"
   ]
  },
  {
   "cell_type": "code",
   "execution_count": 44,
   "metadata": {},
   "outputs": [],
   "source": [
    "# intialize the models \n",
    "mnb = MultinomialNB()\n",
    "knn = KNeighborsClassifier()\n",
    "rf = RandomForestClassifier(n_estimators=50)\n",
    "svc = SVC(kernel=\"sigmoid\", gamma=1)\n",
    "dtc = DecisionTreeClassifier()\n",
    "gbc = GradientBoostingClassifier(n_estimators=50,random_state=42)\n",
    "lr = LogisticRegression(solver=\"liblinear\", penalty=\"l1\")\n",
    "ada = AdaBoostClassifier(n_estimators=50,random_state=42)\n",
    "xgb = XGBClassifier(n_estimators=50,random_state=42)\n",
    "bag = BaggingClassifier(n_estimators=50,random_state=42)"
   ]
  },
  {
   "cell_type": "code",
   "execution_count": 45,
   "metadata": {},
   "outputs": [],
   "source": [
    "models = {\n",
    "    \"mnb\": mnb,\n",
    "    \"knn\": knn,\n",
    "    \"rf\": rf,\n",
    "    \"svc\": svc,\n",
    "    \"dtc\": dtc,\n",
    "    \"gbc\": gbc,\n",
    "    \"lr\": lr,\n",
    "    \"ada\": ada,\n",
    "    \"xgb\": xgb,\n",
    "    \"bag\": bag\n",
    "}"
   ]
  },
  {
   "cell_type": "code",
   "execution_count": 46,
   "metadata": {},
   "outputs": [],
   "source": [
    "# functionalize the model training according to model dictonary \n",
    "def model_training(model,scores):\n",
    "    model.fit(x_train_cv, y_train_cv)\n",
    "\n",
    "    y_pred = model.predict(x_test_cv)  \n",
    "\n",
    "    # append the score to scores data frame\n",
    "    scores.loc[len(scores)] =   ({\"model\": model.__class__.__name__, \"accuracy\": accuracy_score(y_test_cv, y_pred),\n",
    "                            \"precision\": precision_score(y_test_cv, y_pred, average='weighted'),\n",
    "                            \"recall\": recall_score(y_test_cv, y_pred, average='weighted'),\n",
    "                            \"f1_score\": f1_score(y_test_cv, y_pred, average='weighted')})\n",
    "\n",
    "    return scores"
   ]
  },
  {
   "cell_type": "code",
   "execution_count": 47,
   "metadata": {},
   "outputs": [],
   "source": [
    "# looping over all the models and calling the model_training function\n",
    "scores = pd.DataFrame(columns=[\"model\", \"accuracy\", \"precision\", \"recall\", \"f1_score\"])\n",
    "\n",
    "for model in models.values():\n",
    "    scores = model_training(model, scores)   "
   ]
  },
  {
   "cell_type": "code",
   "execution_count": 48,
   "metadata": {},
   "outputs": [
    {
     "data": {
      "text/html": [
       "<div>\n",
       "<style scoped>\n",
       "    .dataframe tbody tr th:only-of-type {\n",
       "        vertical-align: middle;\n",
       "    }\n",
       "\n",
       "    .dataframe tbody tr th {\n",
       "        vertical-align: top;\n",
       "    }\n",
       "\n",
       "    .dataframe thead th {\n",
       "        text-align: right;\n",
       "    }\n",
       "</style>\n",
       "<table border=\"1\" class=\"dataframe\">\n",
       "  <thead>\n",
       "    <tr style=\"text-align: right;\">\n",
       "      <th></th>\n",
       "      <th>model</th>\n",
       "      <th>accuracy</th>\n",
       "      <th>precision</th>\n",
       "      <th>recall</th>\n",
       "      <th>f1_score</th>\n",
       "    </tr>\n",
       "  </thead>\n",
       "  <tbody>\n",
       "    <tr>\n",
       "      <th>0</th>\n",
       "      <td>MultinomialNB</td>\n",
       "      <td>0.964045</td>\n",
       "      <td>0.965351</td>\n",
       "      <td>0.964045</td>\n",
       "      <td>0.963966</td>\n",
       "    </tr>\n",
       "    <tr>\n",
       "      <th>1</th>\n",
       "      <td>KNeighborsClassifier</td>\n",
       "      <td>0.714607</td>\n",
       "      <td>0.814228</td>\n",
       "      <td>0.714607</td>\n",
       "      <td>0.718078</td>\n",
       "    </tr>\n",
       "    <tr>\n",
       "      <th>2</th>\n",
       "      <td>RandomForestClassifier</td>\n",
       "      <td>0.950562</td>\n",
       "      <td>0.952531</td>\n",
       "      <td>0.950562</td>\n",
       "      <td>0.950591</td>\n",
       "    </tr>\n",
       "    <tr>\n",
       "      <th>3</th>\n",
       "      <td>SVC</td>\n",
       "      <td>0.314607</td>\n",
       "      <td>0.292614</td>\n",
       "      <td>0.314607</td>\n",
       "      <td>0.257106</td>\n",
       "    </tr>\n",
       "    <tr>\n",
       "      <th>4</th>\n",
       "      <td>DecisionTreeClassifier</td>\n",
       "      <td>0.838202</td>\n",
       "      <td>0.843085</td>\n",
       "      <td>0.838202</td>\n",
       "      <td>0.838305</td>\n",
       "    </tr>\n",
       "    <tr>\n",
       "      <th>5</th>\n",
       "      <td>GradientBoostingClassifier</td>\n",
       "      <td>0.943820</td>\n",
       "      <td>0.944588</td>\n",
       "      <td>0.943820</td>\n",
       "      <td>0.943977</td>\n",
       "    </tr>\n",
       "    <tr>\n",
       "      <th>6</th>\n",
       "      <td>LogisticRegression</td>\n",
       "      <td>0.941573</td>\n",
       "      <td>0.942786</td>\n",
       "      <td>0.941573</td>\n",
       "      <td>0.941642</td>\n",
       "    </tr>\n",
       "    <tr>\n",
       "      <th>7</th>\n",
       "      <td>AdaBoostClassifier</td>\n",
       "      <td>0.831461</td>\n",
       "      <td>0.840593</td>\n",
       "      <td>0.831461</td>\n",
       "      <td>0.831628</td>\n",
       "    </tr>\n",
       "    <tr>\n",
       "      <th>8</th>\n",
       "      <td>XGBClassifier</td>\n",
       "      <td>0.943820</td>\n",
       "      <td>0.944573</td>\n",
       "      <td>0.943820</td>\n",
       "      <td>0.943954</td>\n",
       "    </tr>\n",
       "    <tr>\n",
       "      <th>9</th>\n",
       "      <td>BaggingClassifier</td>\n",
       "      <td>0.887640</td>\n",
       "      <td>0.890283</td>\n",
       "      <td>0.887640</td>\n",
       "      <td>0.887328</td>\n",
       "    </tr>\n",
       "  </tbody>\n",
       "</table>\n",
       "</div>"
      ],
      "text/plain": [
       "                        model  accuracy  precision    recall  f1_score\n",
       "0               MultinomialNB  0.964045   0.965351  0.964045  0.963966\n",
       "1        KNeighborsClassifier  0.714607   0.814228  0.714607  0.718078\n",
       "2      RandomForestClassifier  0.950562   0.952531  0.950562  0.950591\n",
       "3                         SVC  0.314607   0.292614  0.314607  0.257106\n",
       "4      DecisionTreeClassifier  0.838202   0.843085  0.838202  0.838305\n",
       "5  GradientBoostingClassifier  0.943820   0.944588  0.943820  0.943977\n",
       "6          LogisticRegression  0.941573   0.942786  0.941573  0.941642\n",
       "7          AdaBoostClassifier  0.831461   0.840593  0.831461  0.831628\n",
       "8               XGBClassifier  0.943820   0.944573  0.943820  0.943954\n",
       "9           BaggingClassifier  0.887640   0.890283  0.887640  0.887328"
      ]
     },
     "execution_count": 48,
     "metadata": {},
     "output_type": "execute_result"
    }
   ],
   "source": [
    "scores"
   ]
  },
  {
   "cell_type": "markdown",
   "metadata": {},
   "source": [
    "These are all test scores of all the classifiers \n"
   ]
  },
  {
   "cell_type": "code",
   "execution_count": 49,
   "metadata": {},
   "outputs": [
    {
     "data": {
      "text/html": [
       "<div>\n",
       "<style scoped>\n",
       "    .dataframe tbody tr th:only-of-type {\n",
       "        vertical-align: middle;\n",
       "    }\n",
       "\n",
       "    .dataframe tbody tr th {\n",
       "        vertical-align: top;\n",
       "    }\n",
       "\n",
       "    .dataframe thead th {\n",
       "        text-align: right;\n",
       "    }\n",
       "</style>\n",
       "<table border=\"1\" class=\"dataframe\">\n",
       "  <thead>\n",
       "    <tr style=\"text-align: right;\">\n",
       "      <th></th>\n",
       "      <th>model</th>\n",
       "      <th>accuracy</th>\n",
       "      <th>precision</th>\n",
       "      <th>recall</th>\n",
       "      <th>f1_score</th>\n",
       "    </tr>\n",
       "  </thead>\n",
       "  <tbody>\n",
       "    <tr>\n",
       "      <th>0</th>\n",
       "      <td>MultinomialNB</td>\n",
       "      <td>0.964045</td>\n",
       "      <td>0.965351</td>\n",
       "      <td>0.964045</td>\n",
       "      <td>0.963966</td>\n",
       "    </tr>\n",
       "    <tr>\n",
       "      <th>2</th>\n",
       "      <td>RandomForestClassifier</td>\n",
       "      <td>0.950562</td>\n",
       "      <td>0.952531</td>\n",
       "      <td>0.950562</td>\n",
       "      <td>0.950591</td>\n",
       "    </tr>\n",
       "    <tr>\n",
       "      <th>5</th>\n",
       "      <td>GradientBoostingClassifier</td>\n",
       "      <td>0.943820</td>\n",
       "      <td>0.944588</td>\n",
       "      <td>0.943820</td>\n",
       "      <td>0.943977</td>\n",
       "    </tr>\n",
       "    <tr>\n",
       "      <th>8</th>\n",
       "      <td>XGBClassifier</td>\n",
       "      <td>0.943820</td>\n",
       "      <td>0.944573</td>\n",
       "      <td>0.943820</td>\n",
       "      <td>0.943954</td>\n",
       "    </tr>\n",
       "    <tr>\n",
       "      <th>6</th>\n",
       "      <td>LogisticRegression</td>\n",
       "      <td>0.941573</td>\n",
       "      <td>0.942786</td>\n",
       "      <td>0.941573</td>\n",
       "      <td>0.941642</td>\n",
       "    </tr>\n",
       "    <tr>\n",
       "      <th>9</th>\n",
       "      <td>BaggingClassifier</td>\n",
       "      <td>0.887640</td>\n",
       "      <td>0.890283</td>\n",
       "      <td>0.887640</td>\n",
       "      <td>0.887328</td>\n",
       "    </tr>\n",
       "    <tr>\n",
       "      <th>4</th>\n",
       "      <td>DecisionTreeClassifier</td>\n",
       "      <td>0.838202</td>\n",
       "      <td>0.843085</td>\n",
       "      <td>0.838202</td>\n",
       "      <td>0.838305</td>\n",
       "    </tr>\n",
       "    <tr>\n",
       "      <th>7</th>\n",
       "      <td>AdaBoostClassifier</td>\n",
       "      <td>0.831461</td>\n",
       "      <td>0.840593</td>\n",
       "      <td>0.831461</td>\n",
       "      <td>0.831628</td>\n",
       "    </tr>\n",
       "    <tr>\n",
       "      <th>1</th>\n",
       "      <td>KNeighborsClassifier</td>\n",
       "      <td>0.714607</td>\n",
       "      <td>0.814228</td>\n",
       "      <td>0.714607</td>\n",
       "      <td>0.718078</td>\n",
       "    </tr>\n",
       "    <tr>\n",
       "      <th>3</th>\n",
       "      <td>SVC</td>\n",
       "      <td>0.314607</td>\n",
       "      <td>0.292614</td>\n",
       "      <td>0.314607</td>\n",
       "      <td>0.257106</td>\n",
       "    </tr>\n",
       "  </tbody>\n",
       "</table>\n",
       "</div>"
      ],
      "text/plain": [
       "                        model  accuracy  precision    recall  f1_score\n",
       "0               MultinomialNB  0.964045   0.965351  0.964045  0.963966\n",
       "2      RandomForestClassifier  0.950562   0.952531  0.950562  0.950591\n",
       "5  GradientBoostingClassifier  0.943820   0.944588  0.943820  0.943977\n",
       "8               XGBClassifier  0.943820   0.944573  0.943820  0.943954\n",
       "6          LogisticRegression  0.941573   0.942786  0.941573  0.941642\n",
       "9           BaggingClassifier  0.887640   0.890283  0.887640  0.887328\n",
       "4      DecisionTreeClassifier  0.838202   0.843085  0.838202  0.838305\n",
       "7          AdaBoostClassifier  0.831461   0.840593  0.831461  0.831628\n",
       "1        KNeighborsClassifier  0.714607   0.814228  0.714607  0.718078\n",
       "3                         SVC  0.314607   0.292614  0.314607  0.257106"
      ]
     },
     "execution_count": 49,
     "metadata": {},
     "output_type": "execute_result"
    }
   ],
   "source": [
    "# we can also apply the same on the train score , cross validation for hyperparameter tuning. \n",
    "\n",
    "scores.sort_values(by=\"accuracy\", ascending=False)"
   ]
  },
  {
   "cell_type": "markdown",
   "metadata": {},
   "source": [
    "From the above we can observe that a simple Multinomial Naive Bayes outperformed the rest. \n",
    "It doesn't mean that it's the best model for all the use cases. "
   ]
  },
  {
   "cell_type": "code",
   "execution_count": null,
   "metadata": {},
   "outputs": [],
   "source": [
    "# we used count vectorizer for embeddings, we can also use tfidf vectorizer or other embedding techniques."
   ]
  }
 ],
 "metadata": {
  "kernelspec": {
   "display_name": "Python 3",
   "language": "python",
   "name": "python3"
  },
  "language_info": {
   "codemirror_mode": {
    "name": "ipython",
    "version": 3
   },
   "file_extension": ".py",
   "mimetype": "text/x-python",
   "name": "python",
   "nbconvert_exporter": "python",
   "pygments_lexer": "ipython3",
   "version": "3.10.7"
  }
 },
 "nbformat": 4,
 "nbformat_minor": 2
}
